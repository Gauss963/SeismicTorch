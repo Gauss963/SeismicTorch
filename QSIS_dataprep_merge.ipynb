{
 "cells": [
  {
   "cell_type": "code",
   "execution_count": 1,
   "metadata": {},
   "outputs": [],
   "source": [
    "import os\n",
    "import torch\n",
    "import numpy as np"
   ]
  },
  {
   "cell_type": "code",
   "execution_count": 2,
   "metadata": {},
   "outputs": [
    {
     "name": "stdout",
     "output_type": "stream",
     "text": [
      "(964, 80, 3, 1)\n",
      "(964, 3)\n",
      "(725, 80, 3, 1)\n",
      "(725, 3)\n"
     ]
    }
   ],
   "source": [
    "datadir = './data_QSIS_pth'\n",
    "\n",
    "train_data_path = os.path.join(datadir, 'event.pth')\n",
    "train_data = torch.load(train_data_path)\n",
    "Xevent = train_data['Xevent']\n",
    "Yevent = train_data['Yevent']\n",
    "\n",
    "print(Xevent.shape)\n",
    "print(Yevent.shape)\n",
    "\n",
    "train_data_path = os.path.join(datadir, 'noise.pth')\n",
    "train_data = torch.load(train_data_path)\n",
    "Xnoise = train_data['Xnoise']\n",
    "Ynoise = train_data['Ynoise']\n",
    "\n",
    "print(Xnoise.shape)\n",
    "print(Ynoise.shape)"
   ]
  },
  {
   "cell_type": "code",
   "execution_count": 3,
   "metadata": {},
   "outputs": [
    {
     "name": "stdout",
     "output_type": "stream",
     "text": [
      "(1689, 80, 3, 1)\n",
      "(1689, 3)\n"
     ]
    }
   ],
   "source": [
    "Xall = np.concatenate((Xevent, Xnoise), axis = 0)\n",
    "Yall = np.concatenate((Yevent, Ynoise), axis = 0)\n",
    "\n",
    "print(Xall.shape)\n",
    "print(Yall.shape)"
   ]
  },
  {
   "cell_type": "code",
   "execution_count": 4,
   "metadata": {},
   "outputs": [],
   "source": [
    "torch.save({'Xall': Xall, 'Yall': Yall}, './data_QSIS_pth/all_merged.pth')"
   ]
  }
 ],
 "metadata": {
  "kernelspec": {
   "display_name": "Python 3",
   "language": "python",
   "name": "python3"
  },
  "language_info": {
   "codemirror_mode": {
    "name": "ipython",
    "version": 3
   },
   "file_extension": ".py",
   "mimetype": "text/x-python",
   "name": "python",
   "nbconvert_exporter": "python",
   "pygments_lexer": "ipython3",
   "version": "3.10.1"
  },
  "orig_nbformat": 4
 },
 "nbformat": 4,
 "nbformat_minor": 2
}
