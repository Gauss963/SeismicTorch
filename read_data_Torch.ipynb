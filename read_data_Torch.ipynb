{
 "cells": [
  {
   "cell_type": "code",
   "execution_count": 1,
   "metadata": {},
   "outputs": [],
   "source": [
    "import torch\n",
    "import os"
   ]
  },
  {
   "cell_type": "code",
   "execution_count": 2,
   "metadata": {},
   "outputs": [
    {
     "name": "stdout",
     "output_type": "stream",
     "text": [
      "(73582, 80, 3, 1)\n",
      "(73582, 3)\n",
      "(17722, 80, 3, 1)\n",
      "(17722, 3)\n"
     ]
    }
   ],
   "source": [
    "# 設定資料的路徑\n",
    "datadir = './data_train/pth'\n",
    "\n",
    "# 讀取訓練數據\n",
    "train_data_path = os.path.join(datadir, \"train.pth\")\n",
    "train_data = torch.load(train_data_path)\n",
    "Xtrain = train_data['Xtrain']\n",
    "Ytrain = train_data['Ytrain']\n",
    "\n",
    "# 讀取測試數據\n",
    "test_data_path = os.path.join(datadir, \"test.pth\")\n",
    "test_data = torch.load(test_data_path)\n",
    "Xtest = test_data['Xtest']\n",
    "Ytest = test_data['Ytest']\n",
    "\n",
    "print(Xtrain.shape)\n",
    "print(Ytrain.shape)\n",
    "\n",
    "print(Xtest.shape)\n",
    "print(Ytest.shape)\n",
    "\n",
    "\n",
    "Xtrain = torch.from_numpy(Xtrain).float()\n",
    "Ytrain = torch.from_numpy(Ytrain).float()\n",
    "Xtest = torch.from_numpy(Xtest).float()\n",
    "Ytest = torch.from_numpy(Ytest).float()\n",
    "\n",
    "# 進行維度轉換以符合模型輸入\n",
    "Xtrain = Xtrain.permute(0, 3, 1, 2)\n",
    "Xtest = Xtest.permute(0, 3, 1, 2)\n",
    "\n",
    "# 將Y轉化為類別的整數標籤\n",
    "_, Ytrain = torch.max(Ytrain, 1)\n",
    "_, Ytest = torch.max(Ytest, 1)"
   ]
  },
  {
   "cell_type": "code",
   "execution_count": 3,
   "metadata": {},
   "outputs": [
    {
     "name": "stdout",
     "output_type": "stream",
     "text": [
      "(2722, 80, 3, 1)\n",
      "(2722, 3)\n"
     ]
    }
   ],
   "source": [
    "datadir = './QSIS_pth'\n",
    "\n",
    "train_data_path = os.path.join(datadir, \"all_merged.pth\")\n",
    "train_data = torch.load(train_data_path)\n",
    "Xall = train_data['Xall']\n",
    "Yall = train_data['Yall']\n",
    "\n",
    "print(Xall.shape)\n",
    "print(Yall.shape)"
   ]
  },
  {
   "cell_type": "code",
   "execution_count": 4,
   "metadata": {},
   "outputs": [
    {
     "name": "stdout",
     "output_type": "stream",
     "text": [
      "(208, 80, 3, 1)\n",
      "(208, 80, 3, 1)\n"
     ]
    }
   ],
   "source": [
    "datadir = './QSIS_pth'\n",
    "\n",
    "train_data_path = os.path.join(datadir, \"noise.pth\")\n",
    "train_data = torch.load(train_data_path)\n",
    "Xall = train_data['Xnoise']\n",
    "Yall = train_data['Xnoise']\n",
    "\n",
    "print(Xall.shape)\n",
    "print(Yall.shape)"
   ]
  }
 ],
 "metadata": {
  "kernelspec": {
   "display_name": "Python 3",
   "language": "python",
   "name": "python3"
  },
  "language_info": {
   "codemirror_mode": {
    "name": "ipython",
    "version": 3
   },
   "file_extension": ".py",
   "mimetype": "text/x-python",
   "name": "python",
   "nbconvert_exporter": "python",
   "pygments_lexer": "ipython3",
   "version": "3.10.1"
  },
  "orig_nbformat": 4
 },
 "nbformat": 4,
 "nbformat_minor": 2
}
