{
 "cells": [
  {
   "cell_type": "code",
   "execution_count": 1,
   "metadata": {},
   "outputs": [],
   "source": [
    "import torch\n",
    "import numpy as np\n",
    "import torch.nn as nn\n",
    "\n",
    "from obspy import UTCDateTime\n",
    "from def_model import EarthquakeCNN"
   ]
  },
  {
   "cell_type": "code",
   "execution_count": 2,
   "metadata": {},
   "outputs": [],
   "source": [
    "model = torch.load('./model/EarthquakeCNN.pth')"
   ]
  },
  {
   "cell_type": "code",
   "execution_count": 3,
   "metadata": {},
   "outputs": [
    {
     "name": "stdout",
     "output_type": "stream",
     "text": [
      "tensor([[9.3101e-14, 1.1886e-08, 1.0000e+00]], grad_fn=<SoftmaxBackward0>)\n",
      "The operation took 67.905000 ms.\n"
     ]
    }
   ],
   "source": [
    "start_time_2 = UTCDateTime.now()\n",
    "\n",
    "input_tensor = torch.randn(1, 1, 80, 3)\n",
    "output_tensor = model(input_tensor)\n",
    "softmax = nn.Softmax(dim = 1)\n",
    "output_tensor = softmax(output_tensor)\n",
    "print(output_tensor)\n",
    "\n",
    "end_time_2 = UTCDateTime.now()\n",
    "\n",
    "\n",
    "elapsed_time_2 = float((end_time_2 - start_time_2)) * 1000\n",
    "print(f\"The operation took {elapsed_time_2:.6f} ms.\")"
   ]
  },
  {
   "cell_type": "code",
   "execution_count": 4,
   "metadata": {},
   "outputs": [],
   "source": [
    "num_iterations = 10000\n",
    "time_measurements = []\n",
    "time_measurements = np.array([])\n",
    "\n",
    "for _ in range(num_iterations):\n",
    "    start_time = UTCDateTime.now()\n",
    "\n",
    "\n",
    "    input_tensor = torch.randn(1, 1, 80, 3)\n",
    "    output_tensor = model(input_tensor)\n",
    "    softmax = nn.Softmax(dim = 1)\n",
    "    output_tensor = softmax(output_tensor)\n",
    "\n",
    "\n",
    "    end_time = UTCDateTime.now()\n",
    "\n",
    "\n",
    "    elapsed_time = float((end_time - start_time)) * 1000\n",
    "    time_measurements = np.append(time_measurements, elapsed_time)\n",
    "\n",
    "\n",
    "max_time = np.max(time_measurements)\n",
    "average_time = np.sum(time_measurements) / num_iterations\n",
    "std_dev = np.std(time_measurements)\n"
   ]
  },
  {
   "cell_type": "code",
   "execution_count": 5,
   "metadata": {},
   "outputs": [
    {
     "name": "stdout",
     "output_type": "stream",
     "text": [
      "If execuate on the Linux PC, check here\n",
      "================================================================================\n",
      "Maximum time on PC is:       95.555000 ms.\n",
      "Average time on PC is:        0.892800 ms.\n",
      "Standard dev on PC is:        1.422137 ms.\n",
      "--------------------------------------------------------------------------------\n",
      "Maximum time on Raspberry Pi 4b should be:      735.038462 ms.\n",
      "Average time on Raspberry Pi 4b should be:        6.867689 ms.\n",
      "Standard dev on Raspberry Pi 4b should be:        3.944299 ms.\n",
      "================================================================================\n"
     ]
    }
   ],
   "source": [
    "print('If execuate on the Linux PC, check here')\n",
    "\n",
    "print('=' * 80)\n",
    "\n",
    "print(f\"Maximum time on PC is: {max_time :>15.6f} ms.\")\n",
    "print(f\"Average time on PC is: {average_time :>15.6f} ms.\")\n",
    "print(f\"Standard dev on PC is: {std_dev :>15.6f} ms.\")\n",
    "\n",
    "print('-' * 80)\n",
    "\n",
    "print(f\"Maximum time on Raspberry Pi 4b should be: {max_time * 100 / 13 :>15.6f} ms.\")\n",
    "print(f\"Average time on Raspberry Pi 4b should be: {average_time * 100 / 13 :>15.6f} ms.\")\n",
    "print(f\"Standard dev on Raspberry Pi 4b should be: {std_dev * np.sqrt(100 / 13) :>15.6f} ms.\")\n",
    "\n",
    "print('=' * 80)"
   ]
  },
  {
   "cell_type": "code",
   "execution_count": 6,
   "metadata": {},
   "outputs": [
    {
     "name": "stdout",
     "output_type": "stream",
     "text": [
      "If execute on the Mac mini, check here\n",
      "================================================================================\n",
      "Maximum time on Mac mini is:       95.555000 ms.\n",
      "Average time on Mac mini is:        0.892800 ms.\n",
      "Standard dev on Mac mini is:        1.422137 ms.\n",
      "--------------------------------------------------------------------------------\n",
      "Maximum time on Raspberry Pi 4b should be:      677.695035 ms.\n",
      "Average time on Raspberry Pi 4b should be:        6.331912 ms.\n",
      "Standard dev on Raspberry Pi 4b should be:        3.787319 ms.\n",
      "================================================================================\n"
     ]
    }
   ],
   "source": [
    "print('If execute on the Mac mini, check here')\n",
    "\n",
    "print('=' * 80)\n",
    "\n",
    "print(f\"Maximum time on Mac mini is: {max_time:>15.6f} ms.\")\n",
    "print(f\"Average time on Mac mini is: {average_time:>15.6f} ms.\")\n",
    "print(f\"Standard dev on Mac mini is: {std_dev:>15.6f} ms.\")\n",
    "\n",
    "print('-' * 80)\n",
    "\n",
    "print(f\"Maximum time on Raspberry Pi 4b should be: {max_time / 0.141 :>15.6f} ms.\")\n",
    "print(f\"Average time on Raspberry Pi 4b should be: {average_time / 0.141 :>15.6f} ms.\")\n",
    "print(f\"Standard dev on Raspberry Pi 4b should be: {std_dev / np.sqrt(0.141) :>15.6f} ms.\")\n",
    "\n",
    "print('=' * 80)"
   ]
  },
  {
   "cell_type": "code",
   "execution_count": 7,
   "metadata": {},
   "outputs": [
    {
     "name": "stdout",
     "output_type": "stream",
     "text": [
      "If execuate on the Macbook 2017, check here\n",
      "================================================================================\n",
      "Maximum time on Macbook is:       95.555000 ms.\n",
      "Average time on Macbook is:        0.892800 ms.\n",
      "Standard dev on Macbook is:        1.422137 ms.\n",
      "--------------------------------------------------------------------------------\n",
      "Maximum time on Raspberry Pi 4b should be:      234.635683 ms.\n",
      "Average time on Raspberry Pi 4b should be:        2.192273 ms.\n",
      "Standard dev on Raspberry Pi 4b should be:        2.228496 ms.\n",
      "================================================================================\n"
     ]
    }
   ],
   "source": [
    "print('If execuate on the Macbook 2017, check here')\n",
    "\n",
    "print('=' * 80)\n",
    "\n",
    "print(f\"Maximum time on Macbook is: {max_time :>15.6f} ms.\")\n",
    "print(f\"Average time on Macbook is: {average_time :>15.6f} ms.\")\n",
    "print(f\"Standard dev on Macbook is: {std_dev :>15.6f} ms.\")\n",
    "\n",
    "print('-' * 80)\n",
    "\n",
    "print(f\"Maximum time on Raspberry Pi 4b should be: {max_time / 0.4072483731 :>15.6f} ms.\")\n",
    "print(f\"Average time on Raspberry Pi 4b should be: {average_time / 0.4072483731 :>15.6f} ms.\")\n",
    "print(f\"Standard dev on Raspberry Pi 4b should be: {std_dev / np.sqrt(0.4072483731) :>15.6f} ms.\")\n",
    "\n",
    "print('=' * 80)"
   ]
  }
 ],
 "metadata": {
  "kernelspec": {
   "display_name": "Python 3",
   "language": "python",
   "name": "python3"
  },
  "language_info": {
   "codemirror_mode": {
    "name": "ipython",
    "version": 3
   },
   "file_extension": ".py",
   "mimetype": "text/x-python",
   "name": "python",
   "nbconvert_exporter": "python",
   "pygments_lexer": "ipython3",
   "version": "3.10.1"
  },
  "orig_nbformat": 4
 },
 "nbformat": 4,
 "nbformat_minor": 2
}
